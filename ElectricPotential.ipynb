{
 "cells": [
  {
   "cell_type": "markdown",
   "source": [
    "Uses a relaxation method to find the electric potential of a rectangular area with given boundary conditions that satisfy Laplaces Equation"
   ],
   "metadata": {
    "collapsed": false
   },
   "id": "b60e5adfec593349"
  },
  {
   "cell_type": "code",
   "execution_count": 3,
   "outputs": [],
   "source": [
    "import numpy as np\n",
    "import seaborn as sns"
   ],
   "metadata": {
    "collapsed": false,
    "ExecuteTime": {
     "start_time": "2024-09-20T22:32:59.396838Z"
    }
   },
   "id": "initial_id"
  },
  {
   "cell_type": "code",
   "execution_count": 43,
   "outputs": [],
   "source": [
    "def update(old, new):\n",
    "    \"\"\"\n",
    "    Updates the potential values of a given 2D array and writes them to the given new 2D array\n",
    "    :param old: \n",
    "    :param new: \n",
    "    :return: \n",
    "    \"\"\"\n",
    "    shape = old.shape\n",
    "    for i in range(1, shape[0] - 1):\n",
    "        for j in range(1, shape[1] - 1):\n",
    "            # potential at a given point is average of points around it\n",
    "            new[i, j] = (old[i - 1, j] + old[i + 1, j] + old[i, j - 1] + old[i, j + 1]) / 4\n",
    "    return new\n",
    "\n",
    "def estimate_initial_field(p: np.ndarray) -> np.ndarray:\n",
    "    \"\"\"\n",
    "    estimates the potential field as the average between the boundary conditions in each cardinal direction\n",
    "    \"\"\"\n",
    "    x, y = p.shape\n",
    "    ans = p.copy()\n",
    "    for i in range(1, p.shape[0] - 1):\n",
    "        for j in range(1, p.shape[1] - 1):\n",
    "            ans[i, j] = (p[i, 0] + p[0, j] + p[i, y-1] + p[x-1, j]) / 4\n",
    "    return ans\n",
    "\n",
    "def find_potential(p: np.ndarray, n: int) -> np.array:\n",
    "    \"\"\"\n",
    "    :param n: the number of iterations to run. Higher -> more accurate\n",
    "    :param p: a 2D array representing the region of space with set values of potential along the boundaries acting as boundary conditions\n",
    "    :return: the updated potential\n",
    "    \"\"\"\n",
    "    # used for object pooling, so we don't have to make a new array every time\n",
    "    a = estimate_initial_field(p)\n",
    "    b = a.copy()\n",
    "    update_into_a = True\n",
    "    old, new = b, a\n",
    "    for _ in range(n):\n",
    "        old, new = (b, a) if update_into_a else (a, b)\n",
    "        update(old, new)\n",
    "        update_into_a = not update_into_a\n",
    "    return new\n",
    "\n",
    "\n",
    "def is_change_too_large(old: np.ndarray, new: np.ndarray, accuracy: float) -> bool:\n",
    "    \"\"\"\n",
    "    checks if the potential at any point changed by an amount larger than the given accuracy\n",
    "    :return: \n",
    "    \"\"\"\n",
    "    for i in range(1, old.shape[0] - 1):\n",
    "        for j in range(1, old.shape[1] - 1):\n",
    "            if abs(old[i, j] - new[i, j]) > accuracy:\n",
    "                return True\n",
    "    return False\n",
    "\n",
    "\n",
    "def find_potential_with_accuracy(p: np.ndarray, accuracy: float) -> np.ndarray:\n",
    "    # used for object pooling so we don't have to make a new array every time\n",
    "    a = estimate_initial_field(p)\n",
    "    b = a.copy()\n",
    "    old, new = b, a\n",
    "    update_into_a = True\n",
    "    \n",
    "    error_too_large = True\n",
    "    while error_too_large:\n",
    "        old, new = (b, a) if update_into_a else (a, b)\n",
    "        update(old, new)\n",
    "        update_into_a = not update_into_a\n",
    "        error_too_large = is_change_too_large(old, new, accuracy)\n",
    "    return new"
   ],
   "metadata": {
    "collapsed": false,
    "ExecuteTime": {
     "end_time": "2024-09-20T23:53:31.287625Z",
     "start_time": "2024-09-20T23:53:31.285446Z"
    }
   },
   "id": "554a50018056dd28"
  },
  {
   "cell_type": "code",
   "execution_count": 46,
   "outputs": [
    {
     "name": "stdout",
     "output_type": "stream",
     "text": [
      "[[1 2 3 4 5 6 7 8 9]\n",
      " [0 0 2 2 4 4 6 7 9]\n",
      " [0 0 1 2 3 4 5 7 9]\n",
      " [0 0 2 2 4 4 6 7 9]\n",
      " [1 2 3 4 5 6 7 8 9]]\n"
     ]
    },
    {
     "data": {
      "text/plain": "<Axes: >"
     },
     "execution_count": 46,
     "metadata": {},
     "output_type": "execute_result"
    },
    {
     "data": {
      "text/plain": "<Figure size 640x480 with 2 Axes>",
      "image/png": "[encoded data removed]"
     },
     "metadata": {},
     "output_type": "display_data"
    }
   ],
   "source": [
    "v = np.array([\n",
    "    [1, 2, 3, 4, 5, 6, 7, 8, 9],\n",
    "    [0, 0, 0, 0, 0, 0, 0, 0, 9],\n",
    "    [0, 0, 0, 0, 0, 0, 0, 0, 9],\n",
    "    [0, 0, 0, 0, 0, 0, 0, 0, 9],\n",
    "    [1, 2, 3, 4, 5, 6, 7, 8, 9],\n",
    "])\n",
    "\n",
    "p = find_potential(v, 100)\n",
    "print(p)\n",
    "sns.heatmap(p)"
   ],
   "metadata": {
    "collapsed": false,
    "ExecuteTime": {
     "end_time": "2024-09-20T23:56:41.811512Z",
     "start_time": "2024-09-20T23:56:41.719176Z"
    }
   },
   "id": "80f945cc262eaf7"
  },
  {
   "cell_type": "code",
   "execution_count": null,
   "outputs": [],
   "source": [],
   "metadata": {
    "collapsed": false
   },
   "id": "6d120c9ca46e06f1"
  }
 ],
 "metadata": {
  "kernelspec": {
   "display_name": "Python 3",
   "language": "python",
   "name": "python3"
  },
  "language_info": {
   "codemirror_mode": {
    "name": "ipython",
    "version": 2
   },
   "file_extension": ".py",
   "mimetype": "text/x-python",
   "name": "python",
   "nbconvert_exporter": "python",
   "pygments_lexer": "ipython2",
   "version": "2.7.6"
  }
 },
 "nbformat": 4,
 "nbformat_minor": 5
}
